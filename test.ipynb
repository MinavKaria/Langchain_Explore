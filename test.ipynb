{
 "cells": [
  {
   "cell_type": "code",
   "execution_count": null,
   "id": "f47acfd7",
   "metadata": {},
   "outputs": [
    {
     "name": "stdout",
     "output_type": "stream",
     "text": [
      "content=\"Apple is a multinational technology company that designs, manufactures, and markets consumer electronics, computer software, and online services. It is one of the world's largest and most influential technology companies.\\n\\nApple was founded on April 1, 1976, by Steve Jobs, Steve Wozniak, and Ronald Wayne in Cupertino, California. The company's first product was the Apple I, a personal computer designed and hand-built by Wozniak.\\n\\nOver the years, Apple has developed a wide range of innovative products and services, including:\\n\\n1. **Mac computers**: Apple's line of personal computers, including the iMac, MacBook, and Mac Pro.\\n2. **iPhone**: A line of smartphones that revolutionized the mobile phone industry.\\n3. **iPad**: A line of tablet computers that have become popular for entertainment, education, and productivity.\\n4. **Apple Watch**: A line of smartwatches that track fitness and health metrics, receive notifications, and offer music control.\\n5. **AirPods**: Wireless earbuds that offer seamless connectivity to Apple devices.\\n6. **Apple TV**: A digital media player that streams movies, TV shows, and music to TVs.\\n7. **Apple Music**: A music streaming service that offers access to millions of songs, playlists, and radio stations.\\n8. **iCloud**: A cloud storage service that allows users to store and access their files, photos, and other data from anywhere.\\n9. **Safari**: A web browser that is exclusive to Apple devices.\\n10. **iOS**: A mobile operating system that powers Apple devices, including iPhones and iPads.\\n\\nApple is known for its focus on design, user experience, and innovation. The company's products are often considered to be premium and high-end, and its brand is associated with quality, style, and sophistication.\\n\\nToday, Apple is one of the world's most valuable companies, with a market capitalization of over $2 trillion. It has a global presence, with operations in over 175 countries and a workforce of over 154,000 employees.\" additional_kwargs={} response_metadata={'token_usage': {'completion_tokens': 418, 'prompt_tokens': 39, 'total_tokens': 457, 'completion_time': 0.865098641, 'prompt_time': 0.008469355, 'queue_time': 0.244173343, 'total_time': 0.873567996}, 'model_name': 'llama-3.1-8b-instant', 'system_fingerprint': 'fp_510c177af0', 'service_tier': 'on_demand', 'finish_reason': 'stop', 'logprobs': None} id='run--c0b8ecaf-a325-4b9c-9491-b19e6a9c1f33-0' usage_metadata={'input_tokens': 39, 'output_tokens': 418, 'total_tokens': 457}\n"
     ]
    }
   ],
   "source": [
    "from langchain_groq import ChatGroq\n",
    "import os\n",
    "\n",
    "llm = ChatGroq(\n",
    "    model=\"llama-3.1-8b-instant\",\n",
    "    temperature=0,\n",
    "    api_key=os.environ[\"GROQ_KEY\"]\n",
    ")\n",
    "\n",
    "res=llm.invoke(\"What is Apple ?\")\n",
    "print(res)"
   ]
  }
 ],
 "metadata": {
  "kernelspec": {
   "display_name": "myenv",
   "language": "python",
   "name": "python3"
  },
  "language_info": {
   "codemirror_mode": {
    "name": "ipython",
    "version": 3
   },
   "file_extension": ".py",
   "mimetype": "text/x-python",
   "name": "python",
   "nbconvert_exporter": "python",
   "pygments_lexer": "ipython3",
   "version": "3.12.4"
  }
 },
 "nbformat": 4,
 "nbformat_minor": 5
}
