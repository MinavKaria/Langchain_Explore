{
 "cells": [
  {
   "cell_type": "code",
   "execution_count": 4,
   "id": "55c97c04",
   "metadata": {},
   "outputs": [],
   "source": [
    "import chromadb\n",
    "\n",
    "client = chromadb.Client()\n",
    "collection = client.create_collection(name=\"my_collection\")"
   ]
  },
  {
   "cell_type": "code",
   "execution_count": 7,
   "id": "5d924f39",
   "metadata": {},
   "outputs": [],
   "source": [
    "collection.add(\n",
    "    documents=[\n",
    "        \"This is a document.\",\n",
    "        \"This is another document.\"\n",
    "    ],\n",
    "    ids=[\n",
    "        \"doc1\",\n",
    "        \"doc2\"\n",
    "    ]\n",
    ")"
   ]
  },
  {
   "cell_type": "code",
   "execution_count": 9,
   "id": "3b799590",
   "metadata": {},
   "outputs": [
    {
     "name": "stdout",
     "output_type": "stream",
     "text": [
      "{'ids': ['doc1'], 'embeddings': None, 'documents': ['This is a document.'], 'uris': None, 'included': ['metadatas', 'documents'], 'data': None, 'metadatas': [None]}\n"
     ]
    }
   ],
   "source": [
    "all_documents = collection.get(ids=[\"doc1\"])\n",
    "print(all_documents)"
   ]
  },
  {
   "cell_type": "code",
   "execution_count": 11,
   "id": "d7930c37",
   "metadata": {},
   "outputs": [
    {
     "data": {
      "text/plain": [
       "{'ids': [['doc1', 'doc2']],\n",
       " 'embeddings': None,\n",
       " 'documents': [['This is a document.', 'This is another document.']],\n",
       " 'uris': None,\n",
       " 'included': ['metadatas', 'documents', 'distances'],\n",
       " 'data': None,\n",
       " 'metadatas': [[None, None]],\n",
       " 'distances': [[0.0, 0.33311575651168823]]}"
      ]
     },
     "execution_count": 11,
     "metadata": {},
     "output_type": "execute_result"
    }
   ],
   "source": [
    "collection.query(\n",
    "    query_texts=[\"This is a document.\"],\n",
    "    n_results=2\n",
    ")"
   ]
  }
 ],
 "metadata": {
  "kernelspec": {
   "display_name": "myenv",
   "language": "python",
   "name": "python3"
  },
  "language_info": {
   "codemirror_mode": {
    "name": "ipython",
    "version": 3
   },
   "file_extension": ".py",
   "mimetype": "text/x-python",
   "name": "python",
   "nbconvert_exporter": "python",
   "pygments_lexer": "ipython3",
   "version": "3.12.4"
  }
 },
 "nbformat": 4,
 "nbformat_minor": 5
}
